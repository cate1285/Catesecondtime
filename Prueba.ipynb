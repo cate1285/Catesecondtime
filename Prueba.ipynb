{
  "nbformat": 4,
  "nbformat_minor": 0,
  "metadata": {
    "colab": {
      "name": "Prueba",
      "provenance": [],
      "collapsed_sections": [],
      "include_colab_link": true
    },
    "kernelspec": {
      "name": "python3",
      "display_name": "Python 3"
    }
  },
  "cells": [
    {
      "cell_type": "markdown",
      "metadata": {
        "id": "view-in-github",
        "colab_type": "text"
      },
      "source": [
        "<a href=\"https://colab.research.google.com/github/cate1285/Catesecondtime/blob/main/Prueba.ipynb\" target=\"_parent\"><img src=\"https://colab.research.google.com/assets/colab-badge.svg\" alt=\"Open In Colab\"/></a>"
      ]
    },
    {
      "cell_type": "code",
      "metadata": {
        "colab": {
          "base_uri": "https://localhost:8080/",
          "height": 419
        },
        "id": "LTWP7t2nk3js",
        "outputId": "2c040dd1-d044-4ad9-e1fe-8a4e81097c46"
      },
      "source": [
        "import pandas as pd\r\n",
        "\r\n",
        "try:\r\n",
        "  registros = pd.read_csv(\"Prueba 001.csv\",sep=\",\", encoding=\"utf-8\")\r\n",
        "except :\r\n",
        "  print(\"El archivo no se encontro\")\r\n",
        "else:\r\n",
        "  registros=registros[[\"Entidad\",\"Sector\",\"Fecha\",\"Reportados\",\"Validos\",\"Rechazados\"]]\r\n",
        "registros"
      ],
      "execution_count": null,
      "outputs": [
        {
          "output_type": "execute_result",
          "data": {
            "text/html": [
              "<div>\n",
              "<style scoped>\n",
              "    .dataframe tbody tr th:only-of-type {\n",
              "        vertical-align: middle;\n",
              "    }\n",
              "\n",
              "    .dataframe tbody tr th {\n",
              "        vertical-align: top;\n",
              "    }\n",
              "\n",
              "    .dataframe thead th {\n",
              "        text-align: right;\n",
              "    }\n",
              "</style>\n",
              "<table border=\"1\" class=\"dataframe\">\n",
              "  <thead>\n",
              "    <tr style=\"text-align: right;\">\n",
              "      <th></th>\n",
              "      <th>Entidad</th>\n",
              "      <th>Sector</th>\n",
              "      <th>Fecha</th>\n",
              "      <th>Reportados</th>\n",
              "      <th>Validos</th>\n",
              "      <th>Rechazados</th>\n",
              "    </tr>\n",
              "  </thead>\n",
              "  <tbody>\n",
              "    <tr>\n",
              "      <th>0</th>\n",
              "      <td>Entidad 16</td>\n",
              "      <td>Sector 1</td>\n",
              "      <td>2017-08-26</td>\n",
              "      <td>1157401</td>\n",
              "      <td>902980</td>\n",
              "      <td>254421</td>\n",
              "    </tr>\n",
              "    <tr>\n",
              "      <th>1</th>\n",
              "      <td>Entidad 26</td>\n",
              "      <td>Sector 3</td>\n",
              "      <td>2016-11-25</td>\n",
              "      <td>1072602</td>\n",
              "      <td>942619</td>\n",
              "      <td>129983</td>\n",
              "    </tr>\n",
              "    <tr>\n",
              "      <th>2</th>\n",
              "      <td>Entidad 47</td>\n",
              "      <td>Sector 4</td>\n",
              "      <td>2017-06-07</td>\n",
              "      <td>6679692</td>\n",
              "      <td>5218259</td>\n",
              "      <td>1461433</td>\n",
              "    </tr>\n",
              "    <tr>\n",
              "      <th>3</th>\n",
              "      <td>Entidad 13</td>\n",
              "      <td>Sector 1</td>\n",
              "      <td>2016-06-19</td>\n",
              "      <td>1599716</td>\n",
              "      <td>1095685</td>\n",
              "      <td>504031</td>\n",
              "    </tr>\n",
              "    <tr>\n",
              "      <th>4</th>\n",
              "      <td>Entidad 15</td>\n",
              "      <td>Sector 1</td>\n",
              "      <td>2016-06-16</td>\n",
              "      <td>9010401</td>\n",
              "      <td>8237789</td>\n",
              "      <td>772612</td>\n",
              "    </tr>\n",
              "    <tr>\n",
              "      <th>...</th>\n",
              "      <td>...</td>\n",
              "      <td>...</td>\n",
              "      <td>...</td>\n",
              "      <td>...</td>\n",
              "      <td>...</td>\n",
              "      <td>...</td>\n",
              "    </tr>\n",
              "    <tr>\n",
              "      <th>487</th>\n",
              "      <td>Entidad 34</td>\n",
              "      <td>Sector 2</td>\n",
              "      <td>2015-05-20</td>\n",
              "      <td>8422492</td>\n",
              "      <td>6679559</td>\n",
              "      <td>1742933</td>\n",
              "    </tr>\n",
              "    <tr>\n",
              "      <th>488</th>\n",
              "      <td>Entidad 11</td>\n",
              "      <td>Sector 5</td>\n",
              "      <td>2016-07-13</td>\n",
              "      <td>8374491</td>\n",
              "      <td>5915911</td>\n",
              "      <td>2458580</td>\n",
              "    </tr>\n",
              "    <tr>\n",
              "      <th>489</th>\n",
              "      <td>Entidad 38</td>\n",
              "      <td>Sector 4</td>\n",
              "      <td>2016-10-09</td>\n",
              "      <td>6055533</td>\n",
              "      <td>4835951</td>\n",
              "      <td>1219582</td>\n",
              "    </tr>\n",
              "    <tr>\n",
              "      <th>490</th>\n",
              "      <td>Entidad 43</td>\n",
              "      <td>Sector 5</td>\n",
              "      <td>2017-12-12</td>\n",
              "      <td>8746439</td>\n",
              "      <td>8018571</td>\n",
              "      <td>727868</td>\n",
              "    </tr>\n",
              "    <tr>\n",
              "      <th>491</th>\n",
              "      <td>Entidad 26</td>\n",
              "      <td>Sector 4</td>\n",
              "      <td>2017-04-24</td>\n",
              "      <td>6956429</td>\n",
              "      <td>6470790</td>\n",
              "      <td>485639</td>\n",
              "    </tr>\n",
              "  </tbody>\n",
              "</table>\n",
              "<p>492 rows × 6 columns</p>\n",
              "</div>"
            ],
            "text/plain": [
              "        Entidad    Sector       Fecha  Reportados  Validos  Rechazados\n",
              "0    Entidad 16  Sector 1  2017-08-26     1157401   902980      254421\n",
              "1    Entidad 26  Sector 3  2016-11-25     1072602   942619      129983\n",
              "2    Entidad 47  Sector 4  2017-06-07     6679692  5218259     1461433\n",
              "3    Entidad 13  Sector 1  2016-06-19     1599716  1095685      504031\n",
              "4    Entidad 15  Sector 1  2016-06-16     9010401  8237789      772612\n",
              "..          ...       ...         ...         ...      ...         ...\n",
              "487  Entidad 34  Sector 2  2015-05-20     8422492  6679559     1742933\n",
              "488  Entidad 11  Sector 5  2016-07-13     8374491  5915911     2458580\n",
              "489  Entidad 38  Sector 4  2016-10-09     6055533  4835951     1219582\n",
              "490  Entidad 43  Sector 5  2017-12-12     8746439  8018571      727868\n",
              "491  Entidad 26  Sector 4  2017-04-24     6956429  6470790      485639\n",
              "\n",
              "[492 rows x 6 columns]"
            ]
          },
          "metadata": {
            "tags": []
          },
          "execution_count": 9
        }
      ]
    },
    {
      "cell_type": "markdown",
      "metadata": {
        "id": "hqor9Vr2eiG3"
      },
      "source": [
        "# Sección nueva"
      ]
    },
    {
      "cell_type": "code",
      "metadata": {
        "colab": {
          "base_uri": "https://localhost:8080/",
          "height": 235
        },
        "id": "1JFAXPyh0BPa",
        "outputId": "42d66e42-6f68-45df-8e59-747c027e57aa"
      },
      "source": [
        "total_reportados = registros.groupby(['Sector']).agg({'Reportados': 'sum' })\r\n",
        "total_reportados"
      ],
      "execution_count": null,
      "outputs": [
        {
          "output_type": "execute_result",
          "data": {
            "text/html": [
              "<div>\n",
              "<style scoped>\n",
              "    .dataframe tbody tr th:only-of-type {\n",
              "        vertical-align: middle;\n",
              "    }\n",
              "\n",
              "    .dataframe tbody tr th {\n",
              "        vertical-align: top;\n",
              "    }\n",
              "\n",
              "    .dataframe thead th {\n",
              "        text-align: right;\n",
              "    }\n",
              "</style>\n",
              "<table border=\"1\" class=\"dataframe\">\n",
              "  <thead>\n",
              "    <tr style=\"text-align: right;\">\n",
              "      <th></th>\n",
              "      <th>Reportados</th>\n",
              "    </tr>\n",
              "    <tr>\n",
              "      <th>Sector</th>\n",
              "      <th></th>\n",
              "    </tr>\n",
              "  </thead>\n",
              "  <tbody>\n",
              "    <tr>\n",
              "      <th>Sector 1</th>\n",
              "      <td>523961314</td>\n",
              "    </tr>\n",
              "    <tr>\n",
              "      <th>Sector 2</th>\n",
              "      <td>475700144</td>\n",
              "    </tr>\n",
              "    <tr>\n",
              "      <th>Sector 3</th>\n",
              "      <td>473417528</td>\n",
              "    </tr>\n",
              "    <tr>\n",
              "      <th>Sector 4</th>\n",
              "      <td>457915394</td>\n",
              "    </tr>\n",
              "    <tr>\n",
              "      <th>Sector 5</th>\n",
              "      <td>455379884</td>\n",
              "    </tr>\n",
              "  </tbody>\n",
              "</table>\n",
              "</div>"
            ],
            "text/plain": [
              "          Reportados\n",
              "Sector              \n",
              "Sector 1   523961314\n",
              "Sector 2   475700144\n",
              "Sector 3   473417528\n",
              "Sector 4   457915394\n",
              "Sector 5   455379884"
            ]
          },
          "metadata": {
            "tags": []
          },
          "execution_count": 10
        }
      ]
    },
    {
      "cell_type": "markdown",
      "metadata": {
        "id": "RmUIkkSSu9DA"
      },
      "source": [
        "2) Graficar el total de registros reportados por sector usando un gráfico de torta"
      ]
    },
    {
      "cell_type": "code",
      "metadata": {
        "colab": {
          "base_uri": "https://localhost:8080/",
          "height": 262
        },
        "id": "wJMPbM1vFHwN",
        "outputId": "1c6d70aa-11e5-4504-8244-2e4758ecbf8c"
      },
      "source": [
        "\r\n",
        "fig, ax = plt.subplots()\r\n",
        "total_reportados.plot(kind = 'pie',  autopct='%1.1f%%', ax = ax,subplots=True)\r\n",
        "ax.set_title('Registros reportados por sector ', loc = \"center\", fontdict = {'fontsize':10, 'fontweight':'bold'})\r\n",
        "ax.set_ylabel('')\r\n",
        "plt.show()\r\n",
        "\r\n"
      ],
      "execution_count": 175,
      "outputs": [
        {
          "output_type": "display_data",
          "data": {
            "image/png": "[encoded data removed]",
            "text/plain": [
              "<Figure size 432x288 with 1 Axes>"
            ]
          },
          "metadata": {
            "tags": []
          }
        }
      ]
    },
    {
      "cell_type": "markdown",
      "metadata": {
        "id": "OvOKKSGK99bp"
      },
      "source": [
        "3) Graficar el total de registros validos por sector usando un gráfico de torta. "
      ]
    },
    {
      "cell_type": "code",
      "metadata": {
        "colab": {
          "base_uri": "https://localhost:8080/",
          "height": 235
        },
        "id": "DaU6v_Vo_c_X",
        "outputId": "d209a8fa-8718-4742-9721-b96689ed4cdf"
      },
      "source": [
        "total_validos = registros.groupby([\"Sector\"]).agg({\"Validos\": \"sum\" })\r\n",
        "total_validos"
      ],
      "execution_count": null,
      "outputs": [
        {
          "output_type": "execute_result",
          "data": {
            "text/html": [
              "<div>\n",
              "<style scoped>\n",
              "    .dataframe tbody tr th:only-of-type {\n",
              "        vertical-align: middle;\n",
              "    }\n",
              "\n",
              "    .dataframe tbody tr th {\n",
              "        vertical-align: top;\n",
              "    }\n",
              "\n",
              "    .dataframe thead th {\n",
              "        text-align: right;\n",
              "    }\n",
              "</style>\n",
              "<table border=\"1\" class=\"dataframe\">\n",
              "  <thead>\n",
              "    <tr style=\"text-align: right;\">\n",
              "      <th></th>\n",
              "      <th>Validos</th>\n",
              "    </tr>\n",
              "    <tr>\n",
              "      <th>Sector</th>\n",
              "      <th></th>\n",
              "    </tr>\n",
              "  </thead>\n",
              "  <tbody>\n",
              "    <tr>\n",
              "      <th>Sector 1</th>\n",
              "      <td>430268799</td>\n",
              "    </tr>\n",
              "    <tr>\n",
              "      <th>Sector 2</th>\n",
              "      <td>406196470</td>\n",
              "    </tr>\n",
              "    <tr>\n",
              "      <th>Sector 3</th>\n",
              "      <td>395561387</td>\n",
              "    </tr>\n",
              "    <tr>\n",
              "      <th>Sector 4</th>\n",
              "      <td>389114420</td>\n",
              "    </tr>\n",
              "    <tr>\n",
              "      <th>Sector 5</th>\n",
              "      <td>373551320</td>\n",
              "    </tr>\n",
              "  </tbody>\n",
              "</table>\n",
              "</div>"
            ],
            "text/plain": [
              "            Validos\n",
              "Sector             \n",
              "Sector 1  430268799\n",
              "Sector 2  406196470\n",
              "Sector 3  395561387\n",
              "Sector 4  389114420\n",
              "Sector 5  373551320"
            ]
          },
          "metadata": {
            "tags": []
          },
          "execution_count": 12
        }
      ]
    },
    {
      "cell_type": "code",
      "metadata": {
        "colab": {
          "base_uri": "https://localhost:8080/",
          "height": 262
        },
        "id": "UWGGfdJj3vok",
        "outputId": "fc8b731b-f2c0-4ef1-e66e-1a083c3908ab"
      },
      "source": [
        "\r\n",
        "fig, ax = plt.subplots()\r\n",
        "total_validos.plot.pie(autopct='%1.1f%%', ax = ax,subplots=True, figsize=(20, 20))\r\n",
        "ax.set_title('Registros reportados por sector ', loc = \"center\", fontdict = {'fontsize':10, 'fontweight':'bold'})\r\n",
        "ax.set_ylabel('')\r\n",
        "plt.show()\r\n",
        "\r\n",
        "\r\n",
        "\r\n",
        "#registros2.plot.pie(subplots=True,figsize=(10, 10))\r\n",
        "#plt.show()"
      ],
      "execution_count": 176,
      "outputs": [
        {
          "output_type": "display_data",
          "data": {
            "image/png": "[encoded data removed]",
            "text/plain": [
              "<Figure size 432x288 with 1 Axes>"
            ]
          },
          "metadata": {
            "tags": []
          }
        }
      ]
    },
    {
      "cell_type": "markdown",
      "metadata": {
        "id": "vpaxHiHQUKxH"
      },
      "source": [
        "4) Graficar el total de registros rechazados por sector usando un gráfico de torta"
      ]
    },
    {
      "cell_type": "code",
      "metadata": {
        "colab": {
          "base_uri": "https://localhost:8080/",
          "height": 235
        },
        "id": "_oq1z9KPVUkm",
        "outputId": "9cb6b4fd-ddf2-4a0b-ab63-ab904b935f8a"
      },
      "source": [
        "total_rechazados = registros.groupby([\"Sector\"]).agg({\"Rechazados\": \"sum\" })\r\n",
        "total_rechazados"
      ],
      "execution_count": 179,
      "outputs": [
        {
          "output_type": "execute_result",
          "data": {
            "text/html": [
              "<div>\n",
              "<style scoped>\n",
              "    .dataframe tbody tr th:only-of-type {\n",
              "        vertical-align: middle;\n",
              "    }\n",
              "\n",
              "    .dataframe tbody tr th {\n",
              "        vertical-align: top;\n",
              "    }\n",
              "\n",
              "    .dataframe thead th {\n",
              "        text-align: right;\n",
              "    }\n",
              "</style>\n",
              "<table border=\"1\" class=\"dataframe\">\n",
              "  <thead>\n",
              "    <tr style=\"text-align: right;\">\n",
              "      <th></th>\n",
              "      <th>Rechazados</th>\n",
              "    </tr>\n",
              "    <tr>\n",
              "      <th>Sector</th>\n",
              "      <th></th>\n",
              "    </tr>\n",
              "  </thead>\n",
              "  <tbody>\n",
              "    <tr>\n",
              "      <th>Sector 1</th>\n",
              "      <td>93692515</td>\n",
              "    </tr>\n",
              "    <tr>\n",
              "      <th>Sector 2</th>\n",
              "      <td>69503674</td>\n",
              "    </tr>\n",
              "    <tr>\n",
              "      <th>Sector 3</th>\n",
              "      <td>77856141</td>\n",
              "    </tr>\n",
              "    <tr>\n",
              "      <th>Sector 4</th>\n",
              "      <td>68800974</td>\n",
              "    </tr>\n",
              "    <tr>\n",
              "      <th>Sector 5</th>\n",
              "      <td>81828564</td>\n",
              "    </tr>\n",
              "  </tbody>\n",
              "</table>\n",
              "</div>"
            ],
            "text/plain": [
              "          Rechazados\n",
              "Sector              \n",
              "Sector 1    93692515\n",
              "Sector 2    69503674\n",
              "Sector 3    77856141\n",
              "Sector 4    68800974\n",
              "Sector 5    81828564"
            ]
          },
          "metadata": {
            "tags": []
          },
          "execution_count": 179
        }
      ]
    },
    {
      "cell_type": "code",
      "metadata": {
        "colab": {
          "base_uri": "https://localhost:8080/",
          "height": 262
        },
        "id": "wJdhCeoUABWX",
        "outputId": "fec5eccb-1c02-4974-ee1a-2ec6d2d9b91e"
      },
      "source": [
        "\r\n",
        "fig, ax = plt.subplots()\r\n",
        "total_rechazados.plot.pie(autopct='%1.2f%%', ax = ax,subplots=True, figsize=(20, 20))\r\n",
        "ax.set_title('Registros reportados por sector ', loc = \"center\", fontdict = {'fontsize':10, 'fontweight':'bold'})\r\n",
        "ax.set_ylabel('')\r\n",
        "plt.legend(loc=4) \r\n",
        "plt.show()\r\n"
      ],
      "execution_count": 228,
      "outputs": [
        {
          "output_type": "display_data",
          "data": {
            "image/png": "[encoded data removed]",
            "text/plain": [
              "<Figure size 432x288 with 1 Axes>"
            ]
          },
          "metadata": {
            "tags": []
          }
        }
      ]
    },
    {
      "cell_type": "code",
      "metadata": {
        "colab": {
          "base_uri": "https://localhost:8080/",
          "height": 197
        },
        "id": "z2_aUX3ZpD9q",
        "outputId": "c6f0f5ec-3808-451e-9b2a-22492b92a13c"
      },
      "source": [
        "plt.pie(Rechazados, labels=Sector)\r\n",
        "plt.axis(\"equal\")\r\n",
        "plt.show()"
      ],
      "execution_count": 197,
      "outputs": [
        {
          "output_type": "error",
          "ename": "NameError",
          "evalue": "ignored",
          "traceback": [
            "\u001b[0;31m---------------------------------------------------------------------------\u001b[0m",
            "\u001b[0;31mNameError\u001b[0m                                 Traceback (most recent call last)",
            "\u001b[0;32m<ipython-input-197-2337a759b09e>\u001b[0m in \u001b[0;36m<module>\u001b[0;34m()\u001b[0m\n\u001b[0;32m----> 1\u001b[0;31m \u001b[0mplt\u001b[0m\u001b[0;34m.\u001b[0m\u001b[0mpie\u001b[0m\u001b[0;34m(\u001b[0m\u001b[0mRechazados\u001b[0m\u001b[0;34m,\u001b[0m \u001b[0mlabels\u001b[0m\u001b[0;34m=\u001b[0m\u001b[0mSector\u001b[0m\u001b[0;34m)\u001b[0m\u001b[0;34m\u001b[0m\u001b[0;34m\u001b[0m\u001b[0m\n\u001b[0m\u001b[1;32m      2\u001b[0m \u001b[0mplt\u001b[0m\u001b[0;34m.\u001b[0m\u001b[0maxis\u001b[0m\u001b[0;34m(\u001b[0m\u001b[0;34m\"equal\"\u001b[0m\u001b[0;34m)\u001b[0m\u001b[0;34m\u001b[0m\u001b[0;34m\u001b[0m\u001b[0m\n\u001b[1;32m      3\u001b[0m \u001b[0mplt\u001b[0m\u001b[0;34m.\u001b[0m\u001b[0mshow\u001b[0m\u001b[0;34m(\u001b[0m\u001b[0;34m)\u001b[0m\u001b[0;34m\u001b[0m\u001b[0;34m\u001b[0m\u001b[0m\n",
            "\u001b[0;31mNameError\u001b[0m: name 'Rechazados' is not defined"
          ]
        }
      ]
    },
    {
      "cell_type": "markdown",
      "metadata": {
        "id": "yNfY5wdBV03s"
      },
      "source": [
        "5) Imprimir en salida estándar la entidad que tuvo más registros rechazados."
      ]
    },
    {
      "cell_type": "code",
      "metadata": {
        "colab": {
          "base_uri": "https://localhost:8080/"
        },
        "id": "hQ86axx6VgVF",
        "outputId": "eb60236e-3f80-48cf-bbf2-43c7bfad4f3f"
      },
      "source": [
        "total_rechazado = registros.groupby([\"Entidad\"]).agg({\"Rechazados\": \"sum\" })\r\n",
        "total_rechazados=total_rechazado.sort_values(by=\"Rechazados\", ascending=False)\r\n",
        "print(total_rechazados.iloc[0])"
      ],
      "execution_count": null,
      "outputs": [
        {
          "output_type": "stream",
          "text": [
            "Rechazados    17045277\n",
            "Name: Entidad 47, dtype: int64\n"
          ],
          "name": "stdout"
        }
      ]
    },
    {
      "cell_type": "code",
      "metadata": {
        "id": "ymSUSCstXK0q",
        "colab": {
          "base_uri": "https://localhost:8080/"
        },
        "outputId": "ab809a6a-d98c-487b-ae86-010d4d27e4d5"
      },
      "source": [
        ""
      ],
      "execution_count": null,
      "outputs": [
        {
          "output_type": "stream",
          "text": [
            "86cdfe0a74df\n"
          ],
          "name": "stdout"
        }
      ]
    }
  ]
}